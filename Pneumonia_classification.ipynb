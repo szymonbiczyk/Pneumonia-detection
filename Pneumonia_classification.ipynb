{
  "nbformat": 4,
  "nbformat_minor": 0,
  "metadata": {
    "colab": {
      "provenance": [],
      "mount_file_id": "11KBAGA8q80YnJIL-f1lwoA7zpd8p5EBD",
      "authorship_tag": "ABX9TyPlKnnaOWHRlXDsOLYSLPHP",
      "include_colab_link": true
    },
    "kernelspec": {
      "name": "python3",
      "display_name": "Python 3"
    },
    "language_info": {
      "name": "python"
    },
    "gpuClass": "premium",
    "accelerator": "GPU"
  },
  "cells": [
    {
      "cell_type": "markdown",
      "metadata": {
        "id": "view-in-github",
        "colab_type": "text"
      },
      "source": [
        "<a href=\"https://colab.research.google.com/github/szymonbiczyk/Pneumonia-detection/blob/main/Pneumonia_classification.ipynb\" target=\"_parent\"><img src=\"https://colab.research.google.com/assets/colab-badge.svg\" alt=\"Open In Colab\"/></a>"
      ]
    },
    {
      "cell_type": "markdown",
      "source": [
        "# Imports"
      ],
      "metadata": {
        "id": "3gXgQg5zL47Y"
      }
    },
    {
      "cell_type": "code",
      "source": [
        "import matplotlib.pyplot as plt\n",
        "import numpy as np\n",
        "import PIL\n",
        "import tensorflow as tf\n",
        "import os, shutil, pathlib\n",
        "import os\n",
        "\n",
        "from tensorflow import keras\n",
        "from tensorflow.keras import layers\n",
        "from tensorflow.keras.models import Sequential\n",
        "from google.colab import drive\n",
        "from tensorflow.keras.utils import image_dataset_from_directory\n"
      ],
      "metadata": {
        "id": "8au2uNtJL4mW"
      },
      "execution_count": null,
      "outputs": []
    },
    {
      "cell_type": "code",
      "source": [
        "drive.mount('/content/drive')\n",
        "!ls drive/MyDrive/Pneumonia2/"
      ],
      "metadata": {
        "colab": {
          "base_uri": "https://localhost:8080/"
        },
        "id": "PTiA1UnlL_iP",
        "outputId": "8117f03f-52f4-4bca-b049-24df3e9cab62"
      },
      "execution_count": null,
      "outputs": [
        {
          "output_type": "stream",
          "name": "stdout",
          "text": [
            "Drive already mounted at /content/drive; to attempt to forcibly remount, call drive.mount(\"/content/drive\", force_remount=True).\n",
            "test  train  val\n"
          ]
        }
      ]
    },
    {
      "cell_type": "markdown",
      "source": [
        "# Creating datasets\n"
      ],
      "metadata": {
        "id": "sT8ZcYuEO0yF"
      }
    },
    {
      "cell_type": "code",
      "source": [
        "base_dir=pathlib.Path(\"drive/MyDrive/Pneumonia2\") \n",
        "\n",
        "train_dataset = image_dataset_from_directory(\n",
        "    base_dir / \"train\",\n",
        "    image_size=(180, 180),\n",
        "    batch_size=32)\n",
        "validation_dataset = image_dataset_from_directory(\n",
        "    base_dir / \"val\",\n",
        "    image_size=(180, 180),\n",
        "    batch_size=32)\n",
        "test_dataset = image_dataset_from_directory(\n",
        "    base_dir / \"test\",\n",
        "    image_size=(180, 180),\n",
        "    batch_size=32)"
      ],
      "metadata": {
        "colab": {
          "base_uri": "https://localhost:8080/"
        },
        "id": "5v2BV2bAMx5r",
        "outputId": "8d98c8ef-66f1-40f0-968b-4e867dc7a76c"
      },
      "execution_count": null,
      "outputs": [
        {
          "output_type": "stream",
          "name": "stdout",
          "text": [
            "Found 4220 files belonging to 2 classes.\n",
            "Found 748 files belonging to 2 classes.\n",
            "Found 888 files belonging to 2 classes.\n"
          ]
        }
      ]
    },
    {
      "cell_type": "markdown",
      "source": [
        "Zliczanie rekordów odpowiadającym zapaleniu płóc i zdrowych płóc"
      ],
      "metadata": {
        "id": "vPQ1wx3uWgqZ"
      }
    },
    {
      "cell_type": "code",
      "source": [
        "pneumonia_count = len(os.listdir('/content/drive/MyDrive/Pneumonia2/train/PNEUMONIA'))\n",
        "print(pneumonia_count)\n",
        "normal_count = len(os.listdir('/content/drive/MyDrive/Pneumonia2/train/NORMAL'))\n",
        "print(normal_count)"
      ],
      "metadata": {
        "colab": {
          "base_uri": "https://localhost:8080/"
        },
        "id": "gJ2darMnWrjI",
        "outputId": "c6524414-979c-44c6-ff89-678dde95cf0b"
      },
      "execution_count": null,
      "outputs": [
        {
          "output_type": "stream",
          "name": "stdout",
          "text": [
            "3395\n",
            "825\n"
          ]
        }
      ]
    },
    {
      "cell_type": "markdown",
      "source": [
        "# Data shape"
      ],
      "metadata": {
        "id": "aRT9rrYYNI-o"
      }
    },
    {
      "cell_type": "code",
      "source": [
        "for data_batch, labels_batch in train_dataset:\n",
        "    print(\"data batch shape:\", data_batch.shape) \n",
        "    print(\"labels batch shape:\", labels_batch.shape)\n",
        "    break"
      ],
      "metadata": {
        "colab": {
          "base_uri": "https://localhost:8080/"
        },
        "id": "gDpPEboiNFUG",
        "outputId": "862bf330-efff-4ddb-d514-271f3161d703"
      },
      "execution_count": null,
      "outputs": [
        {
          "output_type": "stream",
          "name": "stdout",
          "text": [
            "data batch shape: (32, 180, 180, 3)\n",
            "labels batch shape: (32,)\n"
          ]
        }
      ]
    },
    {
      "cell_type": "markdown",
      "source": [
        "# Data regularization"
      ],
      "metadata": {
        "id": "C0CEQkbdOZpR"
      }
    },
    {
      "cell_type": "markdown",
      "source": [
        "Changing img contrast"
      ],
      "metadata": {
        "id": "Mmu_tAskOmog"
      }
    },
    {
      "cell_type": "code",
      "source": [
        "change_contrast = keras.Sequential([\n",
        "    layers.RandomContrast(factor = 0.5)\n",
        "])"
      ],
      "metadata": {
        "id": "lw2jFwEFOt7C"
      },
      "execution_count": null,
      "outputs": []
    },
    {
      "cell_type": "markdown",
      "source": [
        "Image augmentation"
      ],
      "metadata": {
        "id": "YoL8caDVOpbb"
      }
    },
    {
      "cell_type": "code",
      "source": [
        "data_augmentation = keras.Sequential([\n",
        "    layers.RandomFlip(mode='horizontal_and_vertical'),\n",
        "    layers.RandomZoom(height_factor=(-0.1, 0.2), width_factor=(-0.1, 0.2)) # range zoom/zoomout - [-10%, +20%]\n",
        "])"
      ],
      "metadata": {
        "id": "-P2X3kGmOuXk"
      },
      "execution_count": null,
      "outputs": []
    },
    {
      "cell_type": "markdown",
      "source": [
        "Setting model metrics"
      ],
      "metadata": {
        "id": "Q1Nd-u9Zqmrh"
      }
    },
    {
      "cell_type": "code",
      "source": [
        "my_metrics = [\n",
        "    'accuracy',\n",
        "    tf.keras.metrics.Precision(name='precision'),\n",
        "    tf.keras.metrics.Recall(name='recall')\n",
        "]"
      ],
      "metadata": {
        "id": "vDwe0PwCqbOK"
      },
      "execution_count": null,
      "outputs": []
    },
    {
      "cell_type": "markdown",
      "source": [
        "# Baseline model\n"
      ],
      "metadata": {
        "id": "UOvR0UMWO7Kf"
      }
    },
    {
      "cell_type": "code",
      "source": [
        "model_dnn = Sequential([\n",
        "    layers.Rescaling(1./255, input_shape=(180, 180, 3)),\n",
        "    change_contrast,\n",
        "    data_augmentation,\n",
        "    \n",
        "    layers.Dense(16, activation='relu'),\n",
        "    layers.Dropout(0.4),\n",
        "    layers.Dense(32, activation='relu'),\n",
        "    layers.Dropout(0.4),\n",
        "    layers.Flatten(),\n",
        "    layers.Dense(1, activation='sigmoid')\n",
        "   \n",
        "])"
      ],
      "metadata": {
        "id": "zroE3GWuUBsL",
        "colab": {
          "base_uri": "https://localhost:8080/"
        },
        "outputId": "2386e09f-be3f-4da8-c5c7-ecea11e0daab"
      },
      "execution_count": null,
      "outputs": [
        {
          "output_type": "stream",
          "name": "stderr",
          "text": [
            "WARNING:tensorflow:Using a while_loop for converting RngReadAndSkip\n",
            "WARNING:tensorflow:Using a while_loop for converting Bitcast\n",
            "WARNING:tensorflow:Using a while_loop for converting Bitcast\n",
            "WARNING:tensorflow:Using a while_loop for converting StatelessRandomUniformFullIntV2\n",
            "WARNING:tensorflow:Using a while_loop for converting StatelessRandomGetKeyCounter\n",
            "WARNING:tensorflow:Using a while_loop for converting StatelessRandomUniformV2\n",
            "WARNING:tensorflow:Using a while_loop for converting AdjustContrastv2\n",
            "WARNING:tensorflow:Using a while_loop for converting RngReadAndSkip\n",
            "WARNING:tensorflow:Using a while_loop for converting Bitcast\n",
            "WARNING:tensorflow:Using a while_loop for converting Bitcast\n",
            "WARNING:tensorflow:Using a while_loop for converting StatelessRandomUniformFullIntV2\n",
            "WARNING:tensorflow:Using a while_loop for converting StatelessRandomGetKeyCounter\n",
            "WARNING:tensorflow:Using a while_loop for converting StatelessRandomUniformV2\n",
            "WARNING:tensorflow:Using a while_loop for converting AdjustContrastv2\n"
          ]
        }
      ]
    },
    {
      "cell_type": "markdown",
      "source": [
        "Due to the unequal number of cases of pneumonia and healthy lungs, weight balance correction implemented"
      ],
      "metadata": {
        "id": "3_3cf9bGU8IA"
      }
    },
    {
      "cell_type": "code",
      "source": [
        "initial_bias = np.log([pneumonia_count / normal_count])\n",
        "print(\"Initial bias: {:.5f}\".format(initial_bias[0]))\n",
        "\n",
        "train_count = normal_count + pneumonia_count\n",
        "weight_for_0 = (1 / normal_count) * (train_count) / 2.0\n",
        "weight_for_1 = (1 / pneumonia_count) * (train_count) / 2.0\n",
        "\n",
        "class_weight = {0: weight_for_0, 1: weight_for_1}\n",
        "\n",
        "print(\"Weight for class 0: {:.2f}\".format(weight_for_0))\n",
        "print(\"Weight for class 1: {:.2f}\".format(weight_for_1))"
      ],
      "metadata": {
        "colab": {
          "base_uri": "https://localhost:8080/"
        },
        "id": "kjJVbj6uU76d",
        "outputId": "12827fb2-b08a-46d2-ad1e-7ed556cfeceb"
      },
      "execution_count": null,
      "outputs": [
        {
          "output_type": "stream",
          "name": "stdout",
          "text": [
            "Initial bias: 1.41468\n",
            "Weight for class 0: 2.56\n",
            "Weight for class 1: 0.62\n"
          ]
        }
      ]
    },
    {
      "cell_type": "markdown",
      "source": [
        "Callbacks"
      ],
      "metadata": {
        "id": "v5p6MnDeVPDu"
      }
    },
    {
      "cell_type": "code",
      "source": [
        "checkpoint_cb = tf.keras.callbacks.ModelCheckpoint(\"xray_model.h5\", save_best_only=True)\n",
        "\n",
        "early_stopping_cb = tf.keras.callbacks.EarlyStopping(\n",
        "    patience=10, restore_best_weights=True\n",
        ")"
      ],
      "metadata": {
        "id": "4jkECA_MVTrs"
      },
      "execution_count": null,
      "outputs": []
    },
    {
      "cell_type": "code",
      "source": [
        "model_dnn.compile(optimizer='adam', loss='binary_crossentropy', metrics=my_metrics)\n",
        "model_dnn.build((None,180, 180, 3))\n",
        "model_dnn.summary()"
      ],
      "metadata": {
        "id": "1GpBaXBaVPDe",
        "colab": {
          "base_uri": "https://localhost:8080/"
        },
        "outputId": "22ab8246-743f-4ca0-df3e-74756a7b8986"
      },
      "execution_count": null,
      "outputs": [
        {
          "output_type": "stream",
          "name": "stdout",
          "text": [
            "Model: \"sequential_2\"\n",
            "_________________________________________________________________\n",
            " Layer (type)                Output Shape              Param #   \n",
            "=================================================================\n",
            " rescaling (Rescaling)       (None, 180, 180, 3)       0         \n",
            "                                                                 \n",
            " sequential (Sequential)     (None, 180, 180, 3)       0         \n",
            "                                                                 \n",
            " sequential_1 (Sequential)   (None, 180, 180, 3)       0         \n",
            "                                                                 \n",
            " dense (Dense)               (None, 180, 180, 16)      64        \n",
            "                                                                 \n",
            " dropout (Dropout)           (None, 180, 180, 16)      0         \n",
            "                                                                 \n",
            " dense_1 (Dense)             (None, 180, 180, 32)      544       \n",
            "                                                                 \n",
            " dropout_1 (Dropout)         (None, 180, 180, 32)      0         \n",
            "                                                                 \n",
            " flatten (Flatten)           (None, 1036800)           0         \n",
            "                                                                 \n",
            " dense_2 (Dense)             (None, 1)                 1036801   \n",
            "                                                                 \n",
            "=================================================================\n",
            "Total params: 1,037,409\n",
            "Trainable params: 1,037,409\n",
            "Non-trainable params: 0\n",
            "_________________________________________________________________\n"
          ]
        }
      ]
    },
    {
      "cell_type": "markdown",
      "source": [
        "Model training"
      ],
      "metadata": {
        "id": "Nlo0i1Yge-av"
      }
    },
    {
      "cell_type": "code",
      "source": [
        "epochs=15\n",
        "history = model_dnn.fit(\n",
        "    train_dataset,\n",
        "    validation_data= validation_dataset,\n",
        "    epochs=epochs,\n",
        "    class_weight=class_weight,\n",
        "    callbacks=[checkpoint_cb, early_stopping_cb],\n",
        ")"
      ],
      "metadata": {
        "id": "M08A_TTtevm1",
        "colab": {
          "base_uri": "https://localhost:8080/"
        },
        "outputId": "03720367-9eeb-4c4b-8240-9493236b5e03"
      },
      "execution_count": null,
      "outputs": [
        {
          "output_type": "stream",
          "name": "stdout",
          "text": [
            "Epoch 1/15\n"
          ]
        },
        {
          "output_type": "stream",
          "name": "stderr",
          "text": [
            "WARNING:tensorflow:Using a while_loop for converting RngReadAndSkip\n",
            "WARNING:tensorflow:Using a while_loop for converting Bitcast\n",
            "WARNING:tensorflow:Using a while_loop for converting Bitcast\n",
            "WARNING:tensorflow:Using a while_loop for converting StatelessRandomUniformFullIntV2\n",
            "WARNING:tensorflow:Using a while_loop for converting StatelessRandomGetKeyCounter\n",
            "WARNING:tensorflow:Using a while_loop for converting StatelessRandomUniformV2\n",
            "WARNING:tensorflow:Using a while_loop for converting AdjustContrastv2\n",
            "WARNING:tensorflow:Using a while_loop for converting RngReadAndSkip\n",
            "WARNING:tensorflow:Using a while_loop for converting Bitcast\n",
            "WARNING:tensorflow:Using a while_loop for converting Bitcast\n",
            "WARNING:tensorflow:Using a while_loop for converting StatelessRandomUniformFullIntV2\n",
            "WARNING:tensorflow:Using a while_loop for converting StatelessRandomGetKeyCounter\n",
            "WARNING:tensorflow:Using a while_loop for converting StatelessRandomUniformV2\n",
            "WARNING:tensorflow:Using a while_loop for converting AdjustContrastv2\n"
          ]
        },
        {
          "output_type": "stream",
          "name": "stdout",
          "text": [
            "132/132 [==============================] - 126s 804ms/step - loss: 2.1749 - accuracy: 0.7232 - precision: 0.9110 - recall: 0.7270 - val_loss: 2.8456 - val_accuracy: 0.4853 - val_precision: 1.0000 - val_recall: 0.0026\n",
            "Epoch 2/15\n",
            "132/132 [==============================] - 18s 132ms/step - loss: 0.4132 - accuracy: 0.8322 - precision: 0.9501 - recall: 0.8353 - val_loss: 2.0958 - val_accuracy: 0.4853 - val_precision: 1.0000 - val_recall: 0.0026\n",
            "Epoch 3/15\n",
            "132/132 [==============================] - 18s 132ms/step - loss: 0.4127 - accuracy: 0.8256 - precision: 0.9505 - recall: 0.8262 - val_loss: 1.3569 - val_accuracy: 0.4880 - val_precision: 1.0000 - val_recall: 0.0078\n",
            "Epoch 4/15\n",
            "132/132 [==============================] - 18s 131ms/step - loss: 0.3377 - accuracy: 0.8640 - precision: 0.9638 - recall: 0.8633 - val_loss: 1.3561 - val_accuracy: 0.4866 - val_precision: 1.0000 - val_recall: 0.0052\n",
            "Epoch 5/15\n",
            "132/132 [==============================] - 18s 131ms/step - loss: 0.3327 - accuracy: 0.8592 - precision: 0.9642 - recall: 0.8568 - val_loss: 0.8451 - val_accuracy: 0.5307 - val_precision: 1.0000 - val_recall: 0.0907\n",
            "Epoch 6/15\n",
            "132/132 [==============================] - 18s 132ms/step - loss: 0.3087 - accuracy: 0.8730 - precision: 0.9670 - recall: 0.8719 - val_loss: 0.7342 - val_accuracy: 0.5856 - val_precision: 1.0000 - val_recall: 0.1969\n",
            "Epoch 7/15\n",
            "132/132 [==============================] - 18s 131ms/step - loss: 0.3261 - accuracy: 0.8630 - precision: 0.9632 - recall: 0.8627 - val_loss: 0.5646 - val_accuracy: 0.6725 - val_precision: 1.0000 - val_recall: 0.3653\n",
            "Epoch 8/15\n",
            "132/132 [==============================] - 18s 133ms/step - loss: 0.3097 - accuracy: 0.8682 - precision: 0.9646 - recall: 0.8680 - val_loss: 0.5742 - val_accuracy: 0.6791 - val_precision: 1.0000 - val_recall: 0.3782\n",
            "Epoch 9/15\n",
            "132/132 [==============================] - 18s 131ms/step - loss: 0.2960 - accuracy: 0.8725 - precision: 0.9688 - recall: 0.8695 - val_loss: 0.4144 - val_accuracy: 0.8235 - val_precision: 0.9961 - val_recall: 0.6606\n",
            "Epoch 10/15\n",
            "132/132 [==============================] - 18s 132ms/step - loss: 0.3007 - accuracy: 0.8770 - precision: 0.9660 - recall: 0.8781 - val_loss: 0.4549 - val_accuracy: 0.7701 - val_precision: 1.0000 - val_recall: 0.5544\n",
            "Epoch 11/15\n",
            "132/132 [==============================] - 18s 132ms/step - loss: 0.2975 - accuracy: 0.8742 - precision: 0.9677 - recall: 0.8728 - val_loss: 0.3994 - val_accuracy: 0.8556 - val_precision: 0.9793 - val_recall: 0.7358\n",
            "Epoch 12/15\n",
            "132/132 [==============================] - 18s 132ms/step - loss: 0.3001 - accuracy: 0.8744 - precision: 0.9686 - recall: 0.8722 - val_loss: 0.4021 - val_accuracy: 0.8516 - val_precision: 0.9825 - val_recall: 0.7254\n",
            "Epoch 13/15\n",
            "132/132 [==============================] - 18s 132ms/step - loss: 0.3009 - accuracy: 0.8777 - precision: 0.9678 - recall: 0.8772 - val_loss: 0.4135 - val_accuracy: 0.8061 - val_precision: 0.9801 - val_recall: 0.6373\n",
            "Epoch 14/15\n",
            "132/132 [==============================] - 18s 132ms/step - loss: 0.2834 - accuracy: 0.8836 - precision: 0.9657 - recall: 0.8869 - val_loss: 0.3774 - val_accuracy: 0.8623 - val_precision: 0.9797 - val_recall: 0.7487\n",
            "Epoch 15/15\n",
            "132/132 [==============================] - 18s 132ms/step - loss: 0.2895 - accuracy: 0.8858 - precision: 0.9709 - recall: 0.8845 - val_loss: 0.3602 - val_accuracy: 0.8904 - val_precision: 0.9810 - val_recall: 0.8031\n"
          ]
        }
      ]
    },
    {
      "cell_type": "markdown",
      "source": [
        "Representation of accuracy and error on the training and validation set"
      ],
      "metadata": {
        "id": "1j0HSHfnfCeN"
      }
    },
    {
      "cell_type": "code",
      "source": [
        "fig, ax = plt.subplots(1, 4, figsize=(20, 3))\n",
        "ax = ax.ravel()\n",
        "\n",
        "for i, met in enumerate(['precision', 'recall', 'accuracy', 'loss']):\n",
        "    ax[i].plot(history.history[met])\n",
        "    ax[i].plot(history.history['val_' + met])\n",
        "    ax[i].set_title('Model {}'.format(met))\n",
        "    ax[i].set_xlabel('epochs')\n",
        "    ax[i].set_ylabel(met)\n",
        "    ax[i].legend(['train', 'val'])"
      ],
      "metadata": {
        "id": "24mFwFMHe0RK",
        "colab": {
          "base_uri": "https://localhost:8080/",
          "height": 241
        },
        "outputId": "c5335f35-117e-40ed-e2d3-363001922ab4"
      },
      "execution_count": null,
      "outputs": [
        {
          "output_type": "display_data",
          "data": {
            "text/plain": [
              "<Figure size 1440x216 with 4 Axes>"
            ],
            "image/png": "[encoded data removed]"
          },
          "metadata": {
            "needs_background": "light"
          }
        }
      ]
    },
    {
      "cell_type": "markdown",
      "source": [
        "Testing model"
      ],
      "metadata": {
        "id": "kRmwMVhOfJ7K"
      }
    },
    {
      "cell_type": "code",
      "source": [
        "loss, acc, prec, rec = model_dnn.evaluate(test_dataset)"
      ],
      "metadata": {
        "id": "TCpxvl0Je17U",
        "colab": {
          "base_uri": "https://localhost:8080/"
        },
        "outputId": "767d95c5-accd-4b09-9fc1-9a5495078f2f"
      },
      "execution_count": null,
      "outputs": [
        {
          "output_type": "stream",
          "name": "stdout",
          "text": [
            "28/28 [==============================] - 84s 3s/step - loss: 0.4089 - accuracy: 0.8480 - precision: 0.9085 - recall: 0.8069\n"
          ]
        }
      ]
    },
    {
      "cell_type": "markdown",
      "source": [
        "#Target model\n"
      ],
      "metadata": {
        "id": "3NTr-9KvaHTL"
      }
    },
    {
      "cell_type": "code",
      "source": [
        "model_cnn = Sequential([\n",
        "    layers.Rescaling(1./255, input_shape=(180, 180, 3)), # data rescaling [0, 255] to [0, 1]\n",
        "    change_contrast,\n",
        "    data_augmentation,\n",
        "    \n",
        "    layers.Conv2D(16, (3, 3), activation='relu', input_shape=(180, 180, 3)),\n",
        "    layers.MaxPooling2D((2,2)),\n",
        "    layers.Dropout(0.2),\n",
        "\n",
        "    layers.Conv2D(32, (3, 3), activation='relu'),\n",
        "    layers.MaxPooling2D((2,2)),\n",
        "    layers.Dropout(0.2),\n",
        "\n",
        "    layers.Conv2D(64, (3, 3), activation='relu'),\n",
        "    layers.MaxPooling2D((2,2)),\n",
        "    layers.Dropout(0.2),\n",
        "\n",
        "    layers.Flatten(),\n",
        "    layers.Dense(64, activation='relu'),\n",
        "    layers.Dropout(0.3),\n",
        "    layers.Dense(1, activation='sigmoid')\n",
        "])"
      ],
      "metadata": {
        "id": "GEcBhQFOaMXj"
      },
      "execution_count": null,
      "outputs": []
    },
    {
      "cell_type": "code",
      "source": [
        "model_cnn.compile(optimizer='adam', loss='binary_crossentropy', metrics=my_metrics)\n",
        "input_shape = (None, 180, 180, 3)\n",
        "model_cnn.build(input_shape)\n",
        "model_cnn.summary()"
      ],
      "metadata": {
        "id": "AgvksIdYbeg1",
        "colab": {
          "base_uri": "https://localhost:8080/"
        },
        "outputId": "84451ac9-cb76-4951-99b8-08cdbdb95bac"
      },
      "execution_count": null,
      "outputs": [
        {
          "output_type": "stream",
          "name": "stdout",
          "text": [
            "Model: \"sequential_3\"\n",
            "_________________________________________________________________\n",
            " Layer (type)                Output Shape              Param #   \n",
            "=================================================================\n",
            " rescaling_1 (Rescaling)     (None, 180, 180, 3)       0         \n",
            "                                                                 \n",
            " sequential (Sequential)     (None, 180, 180, 3)       0         \n",
            "                                                                 \n",
            " sequential_1 (Sequential)   (None, 180, 180, 3)       0         \n",
            "                                                                 \n",
            " conv2d (Conv2D)             (None, 178, 178, 16)      448       \n",
            "                                                                 \n",
            " max_pooling2d (MaxPooling2D  (None, 89, 89, 16)       0         \n",
            " )                                                               \n",
            "                                                                 \n",
            " dropout_2 (Dropout)         (None, 89, 89, 16)        0         \n",
            "                                                                 \n",
            " conv2d_1 (Conv2D)           (None, 87, 87, 32)        4640      \n",
            "                                                                 \n",
            " max_pooling2d_1 (MaxPooling  (None, 43, 43, 32)       0         \n",
            " 2D)                                                             \n",
            "                                                                 \n",
            " dropout_3 (Dropout)         (None, 43, 43, 32)        0         \n",
            "                                                                 \n",
            " conv2d_2 (Conv2D)           (None, 41, 41, 64)        18496     \n",
            "                                                                 \n",
            " max_pooling2d_2 (MaxPooling  (None, 20, 20, 64)       0         \n",
            " 2D)                                                             \n",
            "                                                                 \n",
            " dropout_4 (Dropout)         (None, 20, 20, 64)        0         \n",
            "                                                                 \n",
            " flatten_1 (Flatten)         (None, 25600)             0         \n",
            "                                                                 \n",
            " dense_3 (Dense)             (None, 64)                1638464   \n",
            "                                                                 \n",
            " dropout_5 (Dropout)         (None, 64)                0         \n",
            "                                                                 \n",
            " dense_4 (Dense)             (None, 1)                 65        \n",
            "                                                                 \n",
            "=================================================================\n",
            "Total params: 1,662,113\n",
            "Trainable params: 1,662,113\n",
            "Non-trainable params: 0\n",
            "_________________________________________________________________\n"
          ]
        }
      ]
    },
    {
      "cell_type": "markdown",
      "source": [
        "Model training"
      ],
      "metadata": {
        "id": "4knFUq4ZcCHn"
      }
    },
    {
      "cell_type": "code",
      "source": [
        "epochs=15\n",
        "history = model_cnn.fit(\n",
        "    train_dataset,\n",
        "    validation_data=validation_dataset,\n",
        "    epochs=epochs,\n",
        "    class_weight=class_weight,\n",
        "    callbacks=[checkpoint_cb, early_stopping_cb],\n",
        ")"
      ],
      "metadata": {
        "id": "A5Q3b14ycD0h",
        "colab": {
          "base_uri": "https://localhost:8080/"
        },
        "outputId": "94e136a3-3c95-4acf-e3fb-c264260ddd46"
      },
      "execution_count": null,
      "outputs": [
        {
          "output_type": "stream",
          "name": "stdout",
          "text": [
            "Epoch 1/15\n"
          ]
        },
        {
          "output_type": "stream",
          "name": "stderr",
          "text": [
            "WARNING:tensorflow:Using a while_loop for converting RngReadAndSkip\n",
            "WARNING:tensorflow:Using a while_loop for converting Bitcast\n",
            "WARNING:tensorflow:Using a while_loop for converting Bitcast\n",
            "WARNING:tensorflow:Using a while_loop for converting StatelessRandomUniformFullIntV2\n",
            "WARNING:tensorflow:Using a while_loop for converting StatelessRandomGetKeyCounter\n",
            "WARNING:tensorflow:Using a while_loop for converting StatelessRandomUniformV2\n",
            "WARNING:tensorflow:Using a while_loop for converting AdjustContrastv2\n",
            "WARNING:tensorflow:Using a while_loop for converting RngReadAndSkip\n",
            "WARNING:tensorflow:Using a while_loop for converting Bitcast\n",
            "WARNING:tensorflow:Using a while_loop for converting Bitcast\n",
            "WARNING:tensorflow:Using a while_loop for converting StatelessRandomUniformFullIntV2\n",
            "WARNING:tensorflow:Using a while_loop for converting StatelessRandomGetKeyCounter\n",
            "WARNING:tensorflow:Using a while_loop for converting StatelessRandomUniformV2\n",
            "WARNING:tensorflow:Using a while_loop for converting AdjustContrastv2\n"
          ]
        },
        {
          "output_type": "stream",
          "name": "stdout",
          "text": [
            "132/132 [==============================] - 27s 132ms/step - loss: 0.6876 - accuracy: 0.6344 - precision: 0.8673 - recall: 0.6710 - val_loss: 0.5688 - val_accuracy: 0.7660 - val_precision: 0.7350 - val_recall: 0.8549\n",
            "Epoch 2/15\n",
            "132/132 [==============================] - 18s 129ms/step - loss: 0.3968 - accuracy: 0.8391 - precision: 0.9527 - recall: 0.8418 - val_loss: 0.4006 - val_accuracy: 0.8182 - val_precision: 0.7648 - val_recall: 0.9352\n",
            "Epoch 3/15\n",
            "132/132 [==============================] - 18s 130ms/step - loss: 0.3309 - accuracy: 0.8628 - precision: 0.9619 - recall: 0.8636 - val_loss: 0.2770 - val_accuracy: 0.8890 - val_precision: 0.8778 - val_recall: 0.9119\n",
            "Epoch 4/15\n",
            "132/132 [==============================] - 18s 130ms/step - loss: 0.2855 - accuracy: 0.8900 - precision: 0.9744 - recall: 0.8866 - val_loss: 0.2251 - val_accuracy: 0.9158 - val_precision: 0.8968 - val_recall: 0.9456\n",
            "Epoch 5/15\n",
            "132/132 [==============================] - 18s 130ms/step - loss: 0.2380 - accuracy: 0.9064 - precision: 0.9765 - recall: 0.9054 - val_loss: 0.2037 - val_accuracy: 0.9251 - val_precision: 0.9146 - val_recall: 0.9430\n",
            "Epoch 6/15\n",
            "132/132 [==============================] - 18s 129ms/step - loss: 0.2639 - accuracy: 0.9038 - precision: 0.9782 - recall: 0.9004 - val_loss: 0.1853 - val_accuracy: 0.9305 - val_precision: 0.9465 - val_recall: 0.9171\n",
            "Epoch 7/15\n",
            "132/132 [==============================] - 18s 129ms/step - loss: 0.2449 - accuracy: 0.9111 - precision: 0.9788 - recall: 0.9093 - val_loss: 0.1875 - val_accuracy: 0.9211 - val_precision: 0.9479 - val_recall: 0.8964\n",
            "Epoch 8/15\n",
            "132/132 [==============================] - 18s 129ms/step - loss: 0.2206 - accuracy: 0.9149 - precision: 0.9795 - recall: 0.9134 - val_loss: 0.1711 - val_accuracy: 0.9318 - val_precision: 0.9467 - val_recall: 0.9197\n",
            "Epoch 9/15\n",
            "132/132 [==============================] - 18s 130ms/step - loss: 0.2098 - accuracy: 0.9199 - precision: 0.9829 - recall: 0.9163 - val_loss: 0.1408 - val_accuracy: 0.9532 - val_precision: 0.9606 - val_recall: 0.9482\n",
            "Epoch 10/15\n",
            "132/132 [==============================] - 18s 130ms/step - loss: 0.2236 - accuracy: 0.9149 - precision: 0.9795 - recall: 0.9134 - val_loss: 0.1481 - val_accuracy: 0.9465 - val_precision: 0.9459 - val_recall: 0.9508\n",
            "Epoch 11/15\n",
            "132/132 [==============================] - 18s 130ms/step - loss: 0.1981 - accuracy: 0.9299 - precision: 0.9823 - recall: 0.9296 - val_loss: 0.1451 - val_accuracy: 0.9439 - val_precision: 0.9751 - val_recall: 0.9145\n",
            "Epoch 12/15\n",
            "132/132 [==============================] - 18s 130ms/step - loss: 0.2094 - accuracy: 0.9209 - precision: 0.9817 - recall: 0.9187 - val_loss: 0.1361 - val_accuracy: 0.9439 - val_precision: 0.9699 - val_recall: 0.9197\n",
            "Epoch 13/15\n",
            "132/132 [==============================] - 18s 130ms/step - loss: 0.2059 - accuracy: 0.9232 - precision: 0.9821 - recall: 0.9214 - val_loss: 0.1288 - val_accuracy: 0.9479 - val_precision: 0.9627 - val_recall: 0.9352\n",
            "Epoch 14/15\n",
            "132/132 [==============================] - 18s 129ms/step - loss: 0.1745 - accuracy: 0.9325 - precision: 0.9844 - recall: 0.9308 - val_loss: 0.1261 - val_accuracy: 0.9439 - val_precision: 0.9479 - val_recall: 0.9430\n",
            "Epoch 15/15\n",
            "132/132 [==============================] - 18s 130ms/step - loss: 0.1954 - accuracy: 0.9263 - precision: 0.9816 - recall: 0.9258 - val_loss: 0.1216 - val_accuracy: 0.9559 - val_precision: 0.9380 - val_recall: 0.9793\n"
          ]
        }
      ]
    },
    {
      "cell_type": "markdown",
      "source": [
        "Representation of accuracy and error on the training and validation set"
      ],
      "metadata": {
        "id": "1vvTEP7EcRjE"
      }
    },
    {
      "cell_type": "code",
      "source": [
        "fig, ax = plt.subplots(1, 4, figsize=(20, 3))\n",
        "ax = ax.ravel()\n",
        "\n",
        "for i, met in enumerate(['precision', 'recall', 'accuracy', 'loss']):\n",
        "    ax[i].plot(history.history[met])\n",
        "    ax[i].plot(history.history['val_' + met])\n",
        "    ax[i].set_title('Model {}'.format(met))\n",
        "    ax[i].set_xlabel('epochs')\n",
        "    ax[i].set_ylabel(met)\n",
        "    ax[i].legend(['train', 'val'])"
      ],
      "metadata": {
        "id": "3LDmIQFjcRPg",
        "colab": {
          "base_uri": "https://localhost:8080/",
          "height": 241
        },
        "outputId": "5d198267-6099-4fb4-c4e9-b858db3c3738"
      },
      "execution_count": null,
      "outputs": [
        {
          "output_type": "display_data",
          "data": {
            "text/plain": [
              "<Figure size 1440x216 with 4 Axes>"
            ],
            "image/png": "[encoded data removed]"
          },
          "metadata": {
            "needs_background": "light"
          }
        }
      ]
    },
    {
      "cell_type": "markdown",
      "source": [
        "Testing model"
      ],
      "metadata": {
        "id": "tAvcWK6acUGt"
      }
    },
    {
      "cell_type": "code",
      "source": [
        "loss, acc, prec, rec = model_cnn.evaluate(test_dataset)"
      ],
      "metadata": {
        "id": "JPbqGUxIcWSY",
        "colab": {
          "base_uri": "https://localhost:8080/"
        },
        "outputId": "8c6eb7b6-b060-4726-b94e-2e03d5821799"
      },
      "execution_count": null,
      "outputs": [
        {
          "output_type": "stream",
          "name": "stdout",
          "text": [
            "28/28 [==============================] - 2s 38ms/step - loss: 0.3184 - accuracy: 0.8773 - precision: 0.8251 - recall: 0.9878\n"
          ]
        }
      ]
    }
  ]
}